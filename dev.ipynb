{
 "cells": [
  {
   "cell_type": "markdown",
   "metadata": {},
   "source": [
    "## Pruebas seleccion de puntos de muestreo\n",
    "\n"
   ]
  },
  {
   "cell_type": "code",
   "execution_count": 32,
   "metadata": {},
   "outputs": [],
   "source": [
    "# If running this notebook in Mac\n",
    "#%matplotlib osx"
   ]
  },
  {
   "cell_type": "code",
   "execution_count": 1,
   "metadata": {},
   "outputs": [],
   "source": [
    "# If running this notebook in Ubuntu\n",
    "%matplotlib tk"
   ]
  },
  {
   "cell_type": "code",
   "execution_count": 2,
   "metadata": {},
   "outputs": [],
   "source": [
    "from matplotlib import pyplot as plt\n",
    "import numpy as np\n",
    "import pandas as pd\n",
    "import geopandas as gpd\n",
    "import shapely"
   ]
  },
  {
   "cell_type": "code",
   "execution_count": 3,
   "metadata": {},
   "outputs": [],
   "source": [
    "# Número total de muestras es seleccionado asumiendo que \n",
    "# cada ciclo de medición abarca 2 años\n",
    "# que se dispondrán de dos brigadas para la fase de campo \n",
    "# que cada brigada visitaría 1 localidad distinta por semana, \n",
    "# que cada contrato durará 10 meses por año\n",
    "\n",
    "total_samples = 2 * 10 * 4 * 2\n",
    "km_dr = 180 / 40075"
   ]
  },
  {
   "cell_type": "code",
   "execution_count": 4,
   "metadata": {},
   "outputs": [],
   "source": [
    "locafile = '../Datos/GIS/localidades_bogota/Loca.shp'\n",
    "loca = gpd.read_file(locafile, encoding='ascii')\n",
    "loca = loca.to_crs('EPSG:4686')"
   ]
  },
  {
   "cell_type": "code",
   "execution_count": 5,
   "metadata": {},
   "outputs": [],
   "source": [
    "clc = '../Datos/GIS/cobertura_tierra_clc_2018_Cundinamarca_Bogota_GCS_MAGNA/cobertura_tierra_clc_2018_Cundinamarca_Bogota_GCS_MAGNA.shp'\n",
    "cob = gpd.read_file(clc, encoding='ascii')\n",
    "#cob = cob.to_crs('EPSG:4326')"
   ]
  },
  {
   "cell_type": "code",
   "execution_count": 6,
   "metadata": {},
   "outputs": [],
   "source": [
    "simpl = {\n",
    "\t'Zonas verdes artificializadas':[\n",
    "\t\t'1.4.1. Zonas verdes urbanas',\n",
    "\t\t'1.4.1.2. Parques cementerio',\n",
    "\t\t'1.4.1.3. Jardines botánicos',\n",
    "\t\t'1.4.2. Instalaciones recreativas'\n",
    "\t],\n",
    "\t'Territorios artificializados':[\n",
    "\t\t'1.1.1. Tejido urbano continuo',\n",
    "\t\t'1.1.2. Tejido urbano discontinuo',\n",
    "\t\t'1.2.1. Zonas industriales o comerciales',\n",
    "\t\t'1.2.1.1. Zonas industriales',\n",
    "\t\t'1.2.2. Red vial, ferroviaria y terrenos asociados',\n",
    "\t\t'1.2.2.1. Red vial y territorios asociados',\n",
    "\t\t'1.2.4. Aeropuertos',\n",
    "\t\t'1.2.5. Obras hidráulicas',\n",
    "\t\t'1.3.1. Zonas de extracción minera',\n",
    "\t\t'1.3.2. Zona de disposición de residuos'\n",
    "\t],\n",
    "\t'Territorios agrícolas':[\n",
    "\t\t'2.1.1. Otros cultivos transitorios',\n",
    "\t\t'2.1.2.1. Arroz',\n",
    "\t\t'2.1.3. Oleaginosas y leguminosas',\n",
    "\t\t'2.1.4. Hortalizas',\n",
    "\t\t'2.1.5. Tubérculos',\n",
    "\t\t'2.1.5.1. Papa',\n",
    "\t\t'2.2.1. Cultivos permanentes herbáceos',\n",
    "\t\t'2.2.1.2. Caña',\n",
    "\t\t'2.2.2.1. Otros cultivos permanentes arbustivos',\n",
    "\t\t'2.2.2.2. Café',\n",
    "\t\t'2.2.3. Cultivos permanentes arbóreos',\n",
    "\t\t'2.2.3.2. Palma de aceite',\n",
    "\t\t'2.2.3.4. Mango',\n",
    "\t\t'2.2.4. Cultivos agroforestales',\n",
    "\t\t'2.2.5. Cultivos confinados',\n",
    "\t\t'2.3.1. Pastos limpios',\n",
    "\t\t'2.3.2. Pastos arbolados',\n",
    "\t\t'2.3.3. Pastos enmalezados',\n",
    "\t\t'2.4.1. Mosaico de cultivos',\n",
    "\t\t'2.4.2. Mosaico de pastos y cultivos',\n",
    "\t\t'2.4.3. Mosaico de cultivos, pastos y espacios naturales',\n",
    "\t\t'2.4.4. Mosaico de pastos con espacios naturales',\n",
    "\t\t'2.4.5. Mosaico de cultivos con espacios naturales',\n",
    "\t],\n",
    "\t'Bosques':[\n",
    "\t\t'3.1.1.1.1. Bosque denso alto de tierra firme',\n",
    "\t\t'3.1.1.2.1. Bosque denso bajo de tierra firme',\n",
    "\t\t'3.1.2.1.1. Bosque abierto alto de tierra firme',\n",
    "\t\t'3.1.2.2.1. Bosque abierto bajo de tierra firme',\n",
    "\t\t'3.1.2.2.2. Bosque abierto bajo inundable',\n",
    "\t\t'3.1.3.1. Bosque fragmentado con pastos y cultivos',\n",
    "\t\t'3.1.3.2. Bosque fragmentado con vegetación secundaria',\n",
    "\t\t'3.1.4. Bosque de galería y ripario',\n",
    "\t\t'3.1.5. Plantación forestal',\n",
    "\t],\n",
    "\t'Herbazales':[\n",
    "\t\t'3.2.1.1.1.1.  Herbazal denso de tierra firme no arbolado',\n",
    "\t\t'3.2.1.1.1.2.  Herbazal denso de tierra firme arbolado',\n",
    "\t\t'3.2.1.1.1.3.  Herbazal denso de tierra firme con arbustos',\n",
    "\t\t'3.2.1.1.2.1. Herbazal denso inundable no arbolado',\n",
    "\t\t'3.2.1.2.2. Herbazal abierto rocoso'\n",
    "\t],\n",
    "\t'Arbustales':[\n",
    "\t\t'3.2.2.1. Arbustal denso',\n",
    "\t\t'3.2.2.2. Arbustal abierto',\n",
    "\t\t'3.2.3. Vegetación secundaria o en transición',\n",
    "\t\t'3.2.3.1. Vegetación secundaria alta',\n",
    "\t\t'3.2.3.2. Vegetación secundaria baja',\n",
    "\t],\n",
    "\t'Áreas abiertas':[\n",
    "\t\t'3.3.1. Zonas arenosas naturales',\n",
    "\t\t'3.3.1.2. Arenales',\n",
    "\t\t'3.3.2. Afloramientos rocosos',\n",
    "\t\t'3.3.3. Tierras desnudas y degradadas',\n",
    "\t],\n",
    "\t'Áreas humedas': [\n",
    "\t\t'4.1.1. Zonas pantanosas',\n",
    "\t\t'4.1.2. Turberas',\n",
    "\t\t'4.1.3. Vegetación acuática sobre cuerpos de agua',\n",
    "\t],\n",
    "\t'Superficies de agua': [\n",
    "\t\t'5.1.1. Ríos',\n",
    "\t\t'5.1.2. Lagunas, lagos y ciénagas naturales',\n",
    "\t\t'5.1.3. Canales',\n",
    "\t\t'5.1.4. Cuerpos de agua artificiales',\n",
    "\t\t'5.1.4.1. Embalses'\n",
    "\t]\n",
    "}"
   ]
  },
  {
   "cell_type": "code",
   "execution_count": 7,
   "metadata": {},
   "outputs": [],
   "source": [
    "cob['leyenda_simple'] = None\n",
    "\n",
    "for k in simpl:\n",
    "\tfor l in simpl[k]:\n",
    "\t\tcob.loc[cob.leyenda == l, 'leyenda_simple'] = k"
   ]
  },
  {
   "cell_type": "code",
   "execution_count": 8,
   "metadata": {},
   "outputs": [],
   "source": [
    "# Correcting some ill-formed polygons\n",
    "# Error only displays in Ubuntu GeoPandas 0.14.2\n",
    "cob['geometry'] = cob.geometry.buffer(0)"
   ]
  },
  {
   "cell_type": "code",
   "execution_count": 9,
   "metadata": {},
   "outputs": [],
   "source": [
    "cob = cob.clip(\n",
    "\tloca.dissolve()\n",
    ")"
   ]
  },
  {
   "cell_type": "code",
   "execution_count": 12,
   "metadata": {},
   "outputs": [],
   "source": [
    "ls ../Datos/GIS/CLC_Bogota_leyenda_agregada/"
   ]
  },
  {
   "cell_type": "code",
   "execution_count": 10,
   "metadata": {},
   "outputs": [
    {
     "data": {
      "text/plain": [
       "<Axes: >"
      ]
     },
     "execution_count": 10,
     "metadata": {},
     "output_type": "execute_result"
    }
   ],
   "source": [
    "cob.plot(column='leyenda_simple', legend=True)"
   ]
  },
  {
   "cell_type": "code",
   "execution_count": 47,
   "metadata": {},
   "outputs": [
    {
     "name": "stderr",
     "output_type": "stream",
     "text": [
      "/tmp/ipykernel_34564/371082999.py:1: UserWarning: Geometry is in a geographic CRS. Results from 'area' are likely incorrect. Use 'GeoSeries.to_crs()' to re-project geometries to a projected CRS before this operation.\n",
      "\n",
      "  cob['area_km'] = cob.area / km_dr ** 2\n"
     ]
    }
   ],
   "source": [
    "cob['area_km'] = cob.area / km_dr ** 2\n",
    "\n",
    "areaxcob = cob[['area_km', 'leyenda_simple']\n",
    "\t].groupby('leyenda_simple').sum()\n",
    "\n",
    "areaxcob['area_km_sqrt'] = areaxcob.area_km ** 0.5\n",
    "areaxcob['area_km_cube'] = areaxcob.area_km ** 0.333333\n",
    "areaxcob['area_km_cuadr'] = areaxcob.area_km ** 0.25\n",
    "areaxcob['area_km_ln'] = areaxcob.area_km.apply(np.log)"
   ]
  },
  {
   "cell_type": "code",
   "execution_count": 48,
   "metadata": {},
   "outputs": [
    {
     "data": {
      "text/html": [
       "<div>\n",
       "<style scoped>\n",
       "    .dataframe tbody tr th:only-of-type {\n",
       "        vertical-align: middle;\n",
       "    }\n",
       "\n",
       "    .dataframe tbody tr th {\n",
       "        vertical-align: top;\n",
       "    }\n",
       "\n",
       "    .dataframe thead th {\n",
       "        text-align: right;\n",
       "    }\n",
       "</style>\n",
       "<table border=\"1\" class=\"dataframe\">\n",
       "  <thead>\n",
       "    <tr style=\"text-align: right;\">\n",
       "      <th></th>\n",
       "      <th>area_km</th>\n",
       "      <th>area_km_sqrt</th>\n",
       "      <th>area_km_cube</th>\n",
       "      <th>area_km_cuadr</th>\n",
       "      <th>area_km_ln</th>\n",
       "    </tr>\n",
       "    <tr>\n",
       "      <th>leyenda_simple</th>\n",
       "      <th></th>\n",
       "      <th></th>\n",
       "      <th></th>\n",
       "      <th></th>\n",
       "      <th></th>\n",
       "    </tr>\n",
       "  </thead>\n",
       "  <tbody>\n",
       "    <tr>\n",
       "      <th>Arbustales</th>\n",
       "      <td>658.993314</td>\n",
       "      <td>25.670865</td>\n",
       "      <td>8.702140</td>\n",
       "      <td>5.066642</td>\n",
       "      <td>6.490713</td>\n",
       "    </tr>\n",
       "    <tr>\n",
       "      <th>Bosques</th>\n",
       "      <td>330.801835</td>\n",
       "      <td>18.187959</td>\n",
       "      <td>6.916002</td>\n",
       "      <td>4.264734</td>\n",
       "      <td>5.801520</td>\n",
       "    </tr>\n",
       "    <tr>\n",
       "      <th>Herbazales</th>\n",
       "      <td>2503.289426</td>\n",
       "      <td>50.032883</td>\n",
       "      <td>13.578003</td>\n",
       "      <td>7.073393</td>\n",
       "      <td>7.825361</td>\n",
       "    </tr>\n",
       "    <tr>\n",
       "      <th>Territorios agrícolas</th>\n",
       "      <td>1596.695840</td>\n",
       "      <td>39.958677</td>\n",
       "      <td>11.687985</td>\n",
       "      <td>6.321288</td>\n",
       "      <td>7.375692</td>\n",
       "    </tr>\n",
       "    <tr>\n",
       "      <th>Zonas verdes artificializadas</th>\n",
       "      <td>113.172515</td>\n",
       "      <td>10.638257</td>\n",
       "      <td>4.837040</td>\n",
       "      <td>3.261634</td>\n",
       "      <td>4.728913</td>\n",
       "    </tr>\n",
       "  </tbody>\n",
       "</table>\n",
       "</div>"
      ],
      "text/plain": [
       "                                   area_km  area_km_sqrt  area_km_cube  \\\n",
       "leyenda_simple                                                           \n",
       "Arbustales                      658.993314     25.670865      8.702140   \n",
       "Bosques                         330.801835     18.187959      6.916002   \n",
       "Herbazales                     2503.289426     50.032883     13.578003   \n",
       "Territorios agrícolas          1596.695840     39.958677     11.687985   \n",
       "Zonas verdes artificializadas   113.172515     10.638257      4.837040   \n",
       "\n",
       "                               area_km_cuadr  area_km_ln  \n",
       "leyenda_simple                                            \n",
       "Arbustales                          5.066642    6.490713  \n",
       "Bosques                             4.264734    5.801520  \n",
       "Herbazales                          7.073393    7.825361  \n",
       "Territorios agrícolas               6.321288    7.375692  \n",
       "Zonas verdes artificializadas       3.261634    4.728913  "
      ]
     },
     "execution_count": 48,
     "metadata": {},
     "output_type": "execute_result"
    }
   ],
   "source": [
    "areaxcob = areaxcob.drop([\n",
    "\t'Áreas abiertas', \n",
    "\t'Áreas humedas', \n",
    "\t'Territorios artificializados', \n",
    "\t'Superficies de agua'\n",
    "])\n",
    "areaxcob"
   ]
  },
  {
   "cell_type": "code",
   "execution_count": 106,
   "metadata": {},
   "outputs": [
    {
     "data": {
      "text/plain": [
       "leyenda_simple\n",
       "Arbustales                       32.0\n",
       "Bosques                          29.0\n",
       "Herbazales                       39.0\n",
       "Territorios agrícolas            37.0\n",
       "Zonas verdes artificializadas    23.0\n",
       "Name: area_km_ln, dtype: float64"
      ]
     },
     "execution_count": 106,
     "metadata": {},
     "output_type": "execute_result"
    }
   ],
   "source": [
    "area_weights = areaxcob.area_km_ln / areaxcob.area_km_ln.sum() \n",
    "(area_weights * total_samples).round()"
   ]
  },
  {
   "cell_type": "code",
   "execution_count": 107,
   "metadata": {},
   "outputs": [
    {
     "data": {
      "text/plain": [
       "leyenda_simple\n",
       "Arbustales                       31.0\n",
       "Bosques                          26.0\n",
       "Herbazales                       44.0\n",
       "Territorios agrícolas            39.0\n",
       "Zonas verdes artificializadas    20.0\n",
       "Name: area_km_cuadr, dtype: float64"
      ]
     },
     "execution_count": 107,
     "metadata": {},
     "output_type": "execute_result"
    }
   ],
   "source": [
    "area_weights = areaxcob.area_km_cuadr / areaxcob.area_km_cuadr.sum()\n",
    "(area_weights * total_samples).round()"
   ]
  },
  {
   "cell_type": "code",
   "execution_count": 103,
   "metadata": {},
   "outputs": [
    {
     "data": {
      "text/plain": [
       "leyenda_simple\n",
       "Arbustales                       28.0\n",
       "Bosques                          20.0\n",
       "Herbazales                       55.0\n",
       "Territorios agrícolas            44.0\n",
       "Zonas verdes artificializadas    12.0\n",
       "Name: area_km_sqrt, dtype: float64"
      ]
     },
     "execution_count": 103,
     "metadata": {},
     "output_type": "execute_result"
    }
   ],
   "source": [
    "area_weights =  areaxcob.area_km_sqrt / areaxcob.area_km_sqrt.sum()\n",
    "(area_weights * total_samples).round()"
   ]
  },
  {
   "cell_type": "code",
   "execution_count": 105,
   "metadata": {},
   "outputs": [
    {
     "data": {
      "text/plain": [
       "leyenda_simple\n",
       "Arbustales                       20.0\n",
       "Bosques                          10.0\n",
       "Herbazales                       77.0\n",
       "Territorios agrícolas            49.0\n",
       "Zonas verdes artificializadas     3.0\n",
       "Name: area_km, dtype: float64"
      ]
     },
     "execution_count": 105,
     "metadata": {},
     "output_type": "execute_result"
    }
   ],
   "source": [
    "area_weights = areaxcob.area_km / areaxcob.area_km.sum()\n",
    "(total_samples * area_weights).round()"
   ]
  },
  {
   "cell_type": "code",
   "execution_count": 49,
   "metadata": {},
   "outputs": [
    {
     "data": {
      "text/plain": [
       "leyenda_simple\n",
       "Arbustales                       30.0\n",
       "Bosques                          24.0\n",
       "Herbazales                       48.0\n",
       "Territorios agrícolas            41.0\n",
       "Zonas verdes artificializadas    17.0\n",
       "Name: area_km_cube, dtype: float64"
      ]
     },
     "execution_count": 49,
     "metadata": {},
     "output_type": "execute_result"
    }
   ],
   "source": [
    "area_weights = areaxcob.area_km_cube / areaxcob.area_km_cube.sum()\n",
    "(area_weights * total_samples).round()"
   ]
  },
  {
   "cell_type": "code",
   "execution_count": 50,
   "metadata": {},
   "outputs": [
    {
     "data": {
      "text/plain": [
       "leyenda_simple\n",
       "Arbustales                       0.190331\n",
       "Bosques                          0.151265\n",
       "Herbazales                       0.296974\n",
       "Territorios agrícolas            0.255636\n",
       "Zonas verdes artificializadas    0.105794\n",
       "Name: Weight, dtype: float64"
      ]
     },
     "execution_count": 50,
     "metadata": {},
     "output_type": "execute_result"
    }
   ],
   "source": [
    "area_weights.name = 'Weight'\n",
    "area_weights"
   ]
  },
  {
   "cell_type": "code",
   "execution_count": 51,
   "metadata": {},
   "outputs": [],
   "source": [
    "xmin= cob.bounds['minx'].min()\n",
    "xmax= cob.bounds['maxx'].max()\n",
    "ymin= cob.bounds['miny'].min()\n",
    "ymax= cob.bounds['maxy'].max()"
   ]
  },
  {
   "cell_type": "code",
   "execution_count": 52,
   "metadata": {},
   "outputs": [],
   "source": [
    "cell_size = km_dr * 2\n",
    "rng = np.random.default_rng()\n",
    "offset_x = rng.uniform() * cell_size\n",
    "offset_y = rng.uniform() * cell_size\n",
    "\n",
    "# projection of the grid\n",
    "mycrs = 4686\n",
    "# create the cells in a loop\n",
    "grid_cells = []\n",
    "for x0 in np.arange(xmin-offset_x, xmax, cell_size ):\n",
    "\tfor y0 in np.arange(ymin-offset_y, ymax, cell_size):\n",
    "\t\t# bounds\n",
    "\t\tx1 = x0+cell_size\n",
    "\t\ty1 = y0+cell_size\n",
    "\t\tgrid_cells.append(shapely.geometry.box(x0, y0, x1, y1)  )\n",
    "cell = gpd.GeoDataFrame(grid_cells, columns=['geometry'], \n",
    "\t\tcrs=mycrs)"
   ]
  },
  {
   "cell_type": "code",
   "execution_count": 53,
   "metadata": {},
   "outputs": [
    {
     "data": {
      "text/plain": [
       "<Axes: >"
      ]
     },
     "execution_count": 53,
     "metadata": {},
     "output_type": "execute_result"
    }
   ],
   "source": [
    "# Plot the whole sampling frame\n",
    "\n",
    "ax = cob[cob.leyenda_simple.notna()\n",
    "\t].plot(column='leyenda_simple',\n",
    "\t\tlegend=True,\n",
    "\t\tcmap='rainbow'\n",
    "\t)\n",
    "cell.plot(ax=ax, facecolor=\"none\", edgecolor='grey')\n",
    "#ax.axis(\"off\")"
   ]
  },
  {
   "cell_type": "code",
   "execution_count": 54,
   "metadata": {},
   "outputs": [
    {
     "name": "stderr",
     "output_type": "stream",
     "text": [
      "/tmp/ipykernel_34564/1666895978.py:1: UserWarning: Geometry is in a geographic CRS. Results from 'centroid' are likely incorrect. Use 'GeoSeries.to_crs()' to re-project geometries to a projected CRS before this operation.\n",
      "\n",
      "  centers = gpd.GeoDataFrame(cell.geometry.centroid, geometry=0)\n"
     ]
    }
   ],
   "source": [
    "centers = gpd.GeoDataFrame(cell.geometry.centroid, geometry=0)"
   ]
  },
  {
   "cell_type": "code",
   "execution_count": 55,
   "metadata": {},
   "outputs": [],
   "source": [
    "cobxcentroids = gpd.overlay(\n",
    "\tcenters,\n",
    "\tcob[cob.leyenda_simple.notna()], \n",
    ")"
   ]
  },
  {
   "cell_type": "code",
   "execution_count": 56,
   "metadata": {},
   "outputs": [
    {
     "data": {
      "text/plain": [
       "leyenda_simple\n",
       "Arbustales                       162\n",
       "Bosques                           95\n",
       "Herbazales                       635\n",
       "Superficies de agua                3\n",
       "Territorios agrícolas            379\n",
       "Territorios artificializados     336\n",
       "Zonas verdes artificializadas     30\n",
       "Áreas humedas                      8\n",
       "dtype: int64"
      ]
     },
     "execution_count": 56,
     "metadata": {},
     "output_type": "execute_result"
    }
   ],
   "source": [
    "cobxcentroids.groupby('leyenda_simple').size()"
   ]
  },
  {
   "cell_type": "code",
   "execution_count": 57,
   "metadata": {},
   "outputs": [
    {
     "data": {
      "text/plain": [
       "leyenda_simple\n",
       "Arbustales                       0.190331\n",
       "Bosques                          0.151265\n",
       "Herbazales                       0.296974\n",
       "Territorios agrícolas            0.255636\n",
       "Zonas verdes artificializadas    0.105794\n",
       "Name: Weight, dtype: float64"
      ]
     },
     "execution_count": 57,
     "metadata": {},
     "output_type": "execute_result"
    }
   ],
   "source": [
    "area_weights"
   ]
  },
  {
   "cell_type": "code",
   "execution_count": 58,
   "metadata": {},
   "outputs": [
    {
     "data": {
      "text/html": [
       "<div>\n",
       "<style scoped>\n",
       "    .dataframe tbody tr th:only-of-type {\n",
       "        vertical-align: middle;\n",
       "    }\n",
       "\n",
       "    .dataframe tbody tr th {\n",
       "        vertical-align: top;\n",
       "    }\n",
       "\n",
       "    .dataframe thead th {\n",
       "        text-align: right;\n",
       "    }\n",
       "</style>\n",
       "<table border=\"1\" class=\"dataframe\">\n",
       "  <thead>\n",
       "    <tr style=\"text-align: right;\">\n",
       "      <th></th>\n",
       "      <th>Samples</th>\n",
       "      <th>sampl_prob</th>\n",
       "    </tr>\n",
       "    <tr>\n",
       "      <th>leyenda_simple</th>\n",
       "      <th></th>\n",
       "      <th></th>\n",
       "    </tr>\n",
       "  </thead>\n",
       "  <tbody>\n",
       "    <tr>\n",
       "      <th>Arbustales</th>\n",
       "      <td>162</td>\n",
       "      <td>0.187981</td>\n",
       "    </tr>\n",
       "    <tr>\n",
       "      <th>Bosques</th>\n",
       "      <td>95</td>\n",
       "      <td>0.254762</td>\n",
       "    </tr>\n",
       "    <tr>\n",
       "      <th>Herbazales</th>\n",
       "      <td>635</td>\n",
       "      <td>0.074828</td>\n",
       "    </tr>\n",
       "    <tr>\n",
       "      <th>Territorios agrícolas</th>\n",
       "      <td>379</td>\n",
       "      <td>0.107920</td>\n",
       "    </tr>\n",
       "    <tr>\n",
       "      <th>Zonas verdes artificializadas</th>\n",
       "      <td>30</td>\n",
       "      <td>0.564236</td>\n",
       "    </tr>\n",
       "  </tbody>\n",
       "</table>\n",
       "</div>"
      ],
      "text/plain": [
       "                               Samples  sampl_prob\n",
       "leyenda_simple                                    \n",
       "Arbustales                         162    0.187981\n",
       "Bosques                             95    0.254762\n",
       "Herbazales                         635    0.074828\n",
       "Territorios agrícolas              379    0.107920\n",
       "Zonas verdes artificializadas       30    0.564236"
      ]
     },
     "execution_count": 58,
     "metadata": {},
     "output_type": "execute_result"
    }
   ],
   "source": [
    "sampl_cob = cobxcentroids.groupby('leyenda_simple'\n",
    "\t).size()\n",
    "\n",
    "sampl_cob.name = 'Samples'\n",
    "samples = pd.concat([\n",
    "\tsampl_cob, \n",
    "\ttotal_samples * area_weights / sampl_cob\n",
    "\t], axis=1).dropna()\n",
    "samples = samples.rename(columns={0: 'sampl_prob'})\n",
    "samples"
   ]
  },
  {
   "cell_type": "code",
   "execution_count": 59,
   "metadata": {},
   "outputs": [
    {
     "data": {
      "text/plain": [
       "leyenda_simple\n",
       "Arbustales                       30.452904\n",
       "Bosques                          24.202363\n",
       "Herbazales                       47.515854\n",
       "Territorios agrícolas            40.901790\n",
       "Zonas verdes artificializadas    16.927089\n",
       "dtype: float64"
      ]
     },
     "execution_count": 59,
     "metadata": {},
     "output_type": "execute_result"
    }
   ],
   "source": [
    "samples.sampl_prob * samples.Samples"
   ]
  },
  {
   "cell_type": "code",
   "execution_count": 60,
   "metadata": {},
   "outputs": [
    {
     "data": {
      "text/plain": [
       "leyenda_simple\n",
       "Arbustales                       0.001160\n",
       "Bosques                          0.002682\n",
       "Herbazales                       0.000118\n",
       "Territorios agrícolas            0.000285\n",
       "Zonas verdes artificializadas    0.018808\n",
       "dtype: float64"
      ]
     },
     "execution_count": 60,
     "metadata": {},
     "output_type": "execute_result"
    }
   ],
   "source": [
    "# Theoretical number of effective samples\n",
    "samples.sampl_prob / samples.Samples  "
   ]
  },
  {
   "cell_type": "markdown",
   "metadata": {},
   "source": [
    "## Seleccion aleatoria de psus"
   ]
  },
  {
   "cell_type": "code",
   "execution_count": 61,
   "metadata": {},
   "outputs": [],
   "source": [
    "cobxcentroids['prob'] = rng.uniform(0, 1, cobxcentroids.shape[0])\n",
    "cobxcentroids['accepted'] = 0"
   ]
  },
  {
   "cell_type": "code",
   "execution_count": 62,
   "metadata": {},
   "outputs": [],
   "source": [
    "for i in samples.index:\n",
    "\tthres = samples.loc[i, 'sampl_prob']\n",
    "\tcobxcentroids.loc[\n",
    "\t\t(cobxcentroids.leyenda_simple == i) & \n",
    "\t\t(cobxcentroids.prob < thres), 'accepted'\n",
    "\t\t] = 1"
   ]
  },
  {
   "cell_type": "code",
   "execution_count": 63,
   "metadata": {},
   "outputs": [
    {
     "data": {
      "text/plain": [
       "leyenda_simple\n",
       "Arbustales                       30\n",
       "Bosques                          28\n",
       "Herbazales                       47\n",
       "Territorios agrícolas            37\n",
       "Zonas verdes artificializadas    18\n",
       "dtype: int64"
      ]
     },
     "execution_count": 63,
     "metadata": {},
     "output_type": "execute_result"
    }
   ],
   "source": [
    "# Actual sample aggregation by strata\n",
    "cobxcentroids[cobxcentroids.accepted == 1].groupby('leyenda_simple').size()"
   ]
  },
  {
   "cell_type": "code",
   "execution_count": 64,
   "metadata": {},
   "outputs": [
    {
     "data": {
      "text/plain": [
       "<Axes: >"
      ]
     },
     "execution_count": 64,
     "metadata": {},
     "output_type": "execute_result"
    }
   ],
   "source": [
    "# Plot sampling frame and strata\n",
    "ax = cob[cob.leyenda_simple.notna()\n",
    "\t].plot(column='leyenda_simple',\n",
    "\t\tlegend=True,\n",
    "\t\tcmap='rainbow'\n",
    "\t)\n",
    "cell.plot(\n",
    "\tax=ax, facecolor=\"none\", edgecolor='grey'\n",
    ")\n",
    "#ax.axis(\"off\")"
   ]
  },
  {
   "cell_type": "code",
   "execution_count": 65,
   "metadata": {},
   "outputs": [
    {
     "data": {
      "text/plain": [
       "<Axes: >"
      ]
     },
     "execution_count": 65,
     "metadata": {},
     "output_type": "execute_result"
    }
   ],
   "source": [
    "# Plot all possible sampling sites\n",
    "ax = cob[cob.leyenda_simple.notna()\n",
    "\t].plot(column='leyenda_simple',\n",
    "\t\tlegend=True,\n",
    "\t\tcmap='rainbow'\n",
    "\t)\n",
    "cobxcentroids.plot(ax=ax, color='black')\n",
    "\n",
    "#ax.axis(\"off\")"
   ]
  },
  {
   "cell_type": "code",
   "execution_count": 67,
   "metadata": {},
   "outputs": [],
   "source": [
    "fig, ax = plt.subplots(figsize=(12, 12))\n",
    "\n",
    "# Set map limits\n",
    "xlim = ([-74.5, -73.8])\n",
    "ylim = ([3.7, 4.85])\n",
    "ax.set_xlim(xlim)\n",
    "ax.set_ylim(ylim)\n",
    "\n",
    "f0 = cob[\n",
    "\tcob.leyenda_simple.notna()\n",
    "].plot(\n",
    "\tax=ax,\n",
    "\tcolumn='leyenda_simple',\n",
    "\tlegend=True,\n",
    "\tlegend_kwds={'loc': 'lower right'},\n",
    "\tcmap='rainbow'\n",
    ")\n",
    "\n",
    "f1 = cobxcentroids[cobxcentroids.accepted == 1].plot(ax=ax, color='black', markersize=5)\n",
    "\n",
    "plt.xlabel('Longitud', labelpad=15)\n",
    "plt.ylabel('Latitud', labelpad=15)\n",
    "#plt.title('Especie amenazadas y areas protegidas', pad=25)\n",
    "#plt.show()\n",
    "plt.savefig('sitios_muestreo.png', dpi=300, bbox_inches='tight')"
   ]
  },
  {
   "cell_type": "markdown",
   "metadata": {},
   "source": [
    "## Seleccion sistematica de psus"
   ]
  },
  {
   "cell_type": "code",
   "execution_count": 27,
   "metadata": {},
   "outputs": [
    {
     "data": {
      "text/html": [
       "<div>\n",
       "<style scoped>\n",
       "    .dataframe tbody tr th:only-of-type {\n",
       "        vertical-align: middle;\n",
       "    }\n",
       "\n",
       "    .dataframe tbody tr th {\n",
       "        vertical-align: top;\n",
       "    }\n",
       "\n",
       "    .dataframe thead th {\n",
       "        text-align: right;\n",
       "    }\n",
       "</style>\n",
       "<table border=\"1\" class=\"dataframe\">\n",
       "  <thead>\n",
       "    <tr style=\"text-align: right;\">\n",
       "      <th></th>\n",
       "      <th>Samples</th>\n",
       "      <th>Weight</th>\n",
       "    </tr>\n",
       "    <tr>\n",
       "      <th>Cobertura_simple</th>\n",
       "      <th></th>\n",
       "      <th></th>\n",
       "    </tr>\n",
       "  </thead>\n",
       "  <tbody>\n",
       "    <tr>\n",
       "      <th>Bosque</th>\n",
       "      <td>225</td>\n",
       "      <td>0.188714</td>\n",
       "    </tr>\n",
       "    <tr>\n",
       "      <th>Cultivos</th>\n",
       "      <td>442</td>\n",
       "      <td>0.090671</td>\n",
       "    </tr>\n",
       "    <tr>\n",
       "      <th>Herbazales</th>\n",
       "      <td>859</td>\n",
       "      <td>0.047947</td>\n",
       "    </tr>\n",
       "    <tr>\n",
       "      <th>Plantaciones forestales</th>\n",
       "      <td>39</td>\n",
       "      <td>1.000000</td>\n",
       "    </tr>\n",
       "  </tbody>\n",
       "</table>\n",
       "</div>"
      ],
      "text/plain": [
       "                         Samples    Weight\n",
       "Cobertura_simple                          \n",
       "Bosque                       225  0.188714\n",
       "Cultivos                     442  0.090671\n",
       "Herbazales                   859  0.047947\n",
       "Plantaciones forestales       39  1.000000"
      ]
     },
     "execution_count": 27,
     "metadata": {},
     "output_type": "execute_result"
    }
   ],
   "source": [
    "samples"
   ]
  },
  {
   "cell_type": "code",
   "execution_count": 28,
   "metadata": {},
   "outputs": [],
   "source": [
    "cobxcentroids['accepted'] = 0"
   ]
  },
  {
   "cell_type": "code",
   "execution_count": null,
   "metadata": {},
   "outputs": [],
   "source": [
    "thidx = cobxcentroids[cobxcentroids.Cobertura_simple == 'Bosque'].index\n",
    "thidx = thidx[thidx % 5 == 0]\n",
    "cobxcentroids.loc[thidx, 'accepted'] = 1\n",
    "\n",
    "thidx = cobxcentroids[cobxcentroids.Cobertura_simple == 'Cultivos'].index\n",
    "thidx = thidx[thidx % 10 == 0]\n",
    "cobxcentroids.loc[thidx, 'accepted'] = 1\n",
    "\n",
    "thidx = cobxcentroids[cobxcentroids.Cobertura_simple == 'Herbazales'].index\n",
    "thidx = thidx[thidx % 20 == 0]\n",
    "cobxcentroids.loc[thidx, 'accepted'] = 1\n",
    "\n",
    "cobxcentroids.loc[cobxcentroids.Cobertura_simple == 'Plantaciones forestales', \n",
    "\t'accepted'] = 1"
   ]
  },
  {
   "cell_type": "code",
   "execution_count": 30,
   "metadata": {},
   "outputs": [
    {
     "data": {
      "text/plain": [
       "Cobertura_simple\n",
       "Bosque                     46\n",
       "Cultivos                   42\n",
       "Herbazales                 45\n",
       "Plantaciones forestales    39\n",
       "dtype: int64"
      ]
     },
     "execution_count": 30,
     "metadata": {},
     "output_type": "execute_result"
    }
   ],
   "source": [
    "cobxcentroids[cobxcentroids.accepted == 1].groupby('Cobertura_simple').size()"
   ]
  },
  {
   "cell_type": "code",
   "execution_count": 53,
   "metadata": {},
   "outputs": [],
   "source": [
    "fig, ax = plt.subplots(figsize=(8, 8))\n",
    "\n",
    "# Set map limits\n",
    "xlim = ([-74.6, -73.5])\n",
    "ylim = ([3.7, 4.9])\n",
    "ax.set_xlim(xlim)\n",
    "ax.set_ylim(ylim)\n",
    "\n",
    "f0 = cob[cob.Cobertura_simple.notna()\n",
    "\t].plot(\n",
    "\t\tax=ax,\n",
    "\t\tcolumn='Cobertura_simple',\n",
    "\t\tlegend=True,\n",
    "\t\tcmap='rainbow'\n",
    "\t)\n",
    "\n",
    "f1 = cobxcentroids[cobxcentroids.accepted == 1\n",
    "\t].plot(\n",
    "\tax=ax,\n",
    "\tcolor='black',\n",
    "\tmarkersize=7,\n",
    "\t)\n",
    "\n",
    "#ax.legend(loc='lower right')\n",
    "\n",
    "plt.xlabel('Longitud', labelpad=15)\n",
    "plt.ylabel('Latitud', labelpad=15)\n",
    "plt.title('Puntos de muestreo', pad=25)\n",
    "plt.tight_layout()\n",
    "#plt.show()\n",
    "plt.savefig('Puntos_muestreo.png', dpi=400, bbox_inches='tight')\n"
   ]
  }
 ],
 "metadata": {
  "kernelspec": {
   "display_name": "geo",
   "language": "python",
   "name": "python3"
  },
  "language_info": {
   "codemirror_mode": {
    "name": "ipython",
    "version": 3
   },
   "file_extension": ".py",
   "mimetype": "text/x-python",
   "name": "python",
   "nbconvert_exporter": "python",
   "pygments_lexer": "ipython3",
   "version": "3.12.4"
  }
 },
 "nbformat": 4,
 "nbformat_minor": 2
}
