{
 "cells": [
  {
   "cell_type": "code",
   "execution_count": 5,
   "metadata": {},
   "outputs": [
    {
     "data": {
      "text/plain": [
       "0.0625"
      ]
     },
     "execution_count": 5,
     "metadata": {},
     "output_type": "execute_result"
    }
   ],
   "source": [
    "ars = [100, 200, 300, 1000]\n",
    "100 / sum(ars)"
   ]
  },
  {
   "cell_type": "code",
   "execution_count": 4,
   "metadata": {},
   "outputs": [
    {
     "data": {
      "text/plain": [
       "0.03571428571428571"
      ]
     },
     "execution_count": 4,
     "metadata": {},
     "output_type": "execute_result"
    }
   ],
   "source": [
    "ars = [100, 800, 900, 1000]\n",
    "100 / sum(ars)"
   ]
  },
  {
   "cell_type": "markdown",
   "metadata": {},
   "source": [
    "# Muestreo por agrupamiento"
   ]
  },
  {
   "cell_type": "markdown",
   "metadata": {},
   "source": [
    "$ y_{ij}$ = Medicion en la unidad secundaria de muestro j ($ssu_j$) de la unidad primaria de muestreo j ($psu_i$). \n",
    "\n",
    "$ N $ = Número de psu potenciales en la población.  \n",
    "\n",
    "$ M_i $ = Número de ssu posibles en $psu_i$.\n",
    "\n",
    "$ \\Upsilon $ = Muestra de psus.\n",
    "\n",
    "$ \\Upsilon_i $ = Muestra de ssus de $psus_i$  (indices de elementos).\n",
    "\n",
    "$n$ = Numero de psus en la muestra $\\Upsilon$.\n",
    "\n",
    "$m_i$ = Numero de ssus en la muestra $ \\Upsilon_i $.\n",
    "\n",
    "$w_{ij}$ = Peso de muestreo para $ssu_j$ en $psu_i$.\n",
    "\n",
    "---\n",
    "\n",
    "El numero total de ssus seria:\n",
    "\n",
    "$$ M_0 = \\sum_{i = 1}^{N} M_i $$\n",
    "\n",
    "---\n",
    "\n",
    "La suma total de la variable en la $psu_i$ seria:\n",
    "\n",
    "$$ t_i = \\sum^{M_i}_{j=1} y_ij $$\n",
    "\n",
    "y el total poblacional:\n",
    "\n",
    "$$ t = \\sum^{N}_{i=1} \\sum^{M_i}_{j=1} y_ij $$\n",
    "\n",
    "---\n",
    "\n",
    "La varianza de la poblacion seria:\n",
    "\n",
    "$$ S^2_t = \\frac{1}{N - 1} \\sum^{N}_{i=1} \\left( t_i - \\frac{t}{N} \\right)^2 $$\n",
    "\n",
    "\n",
    "---\n",
    "\n",
    "La media muestral por ssu en la $psu_i$ seria:\n",
    "\n",
    "$$ \\bar{y}_i  = \\frac{1}{m_i} \\sum_{j \\in \\Upsilon_i} y_{ij} $$\n",
    "\n",
    "----\n",
    "\n",
    "El total estimado para la $psu_i$ seria:\n",
    "\n",
    "$$ \\hat{t}_i = \\frac{M_i}{m_i} \\sum_{j \\in \\Upsilon_i} y_{ij} $$\n",
    "\n",
    "\n",
    "----\n",
    "\n",
    "Varianza muestral del los totales estimados:\n",
    "\n",
    "$$ s^2_t = \\frac{1}{n-1} \\sum_{i \\in \\Upsilon} \\left( \\hat{t}_i - \\frac{\\sum_{j \\in \\Upsilon} \\hat{t}_j}{n} \\right)^2   $$\n",
    "\n",
    "----\n",
    "\n",
    "Varianza muestral dentro de $psu_i$:\n",
    "\n",
    "$$ s_i^2 = \\frac{1}{m_i - 1} \\sum_{j \\in \\Upsilon_i} (y_{ij}) $$\n",
    "\n",
    "\n",
    "\n",
    "\n"
   ]
  },
  {
   "cell_type": "markdown",
   "metadata": {},
   "source": [
    "### Estimadores de grupos homogeneos\n",
    "\n",
    "Estimadores del total de la poblacion:\n",
    "\n",
    "$$ \\hat{t} = \\frac{N}{n} \\sum_{i \\in \\Upsilon} t_i $$\n",
    "\n",
    "\n",
    "$$ V(\\hat{t}) = N^2 \\left( 1 - \\frac{n}{N} \\right) \\frac{S^2_t}{n} $$\n",
    "\n",
    "\n",
    "$$ SE(\\hat{t}) = N \\sqrt{ \\left( 1 - \\frac{n}{N} \\right) \\frac{s^2_t}{n} } $$\n",
    "\n",
    "$$ \\hat{\\bar{y}} = \\frac{\\hat{t}}{NM} $$\n",
    "\n",
    "$$ V(\\hat{\\bar{y}}) = \\left( 1 - \\frac{n}{N} \\right) \\frac{S^2_t}{nM^2} $$\n",
    "\n",
    "$$ SE(\\hat{\\bar{y}}) = \\frac{1}{M} \\sqrt{ \\left( 1 - \\frac{n}{N} \\right) \\frac{s^2_t}{n} }"
   ]
  },
  {
   "cell_type": "markdown",
   "metadata": {},
   "source": [
    "# Muestreo sistematico\n",
    "\n",
    "Formulas por Cochrain\n",
    "\n",
    "$ N = nk $, donde $n$ es el numero de ssus y $k$ el numero de psus (no es claro si estas cifras son potenciales o reales).\n",
    "\n",
    "\n",
    "\n",
    "$$ V(\\hat{\\bar{y}}) = \\frac{N-1}{N}S^2 - \\frac{k(n-1)}{N} S^2_{wsy}  $$\n",
    "\n",
    "donde\n",
    "\n",
    "$$ S^2 = \\frac{ \\sum^N_{i=1} (y_i - \\bar{Y}) }{N - 1} $$\n",
    "\n",
    "$$ S^2_{wsy} = \\frac{1}{k(n-1)} \\sum^k_{i=1} \\sum^n_{j=1} (y_{ij} - \\bar{y}_i) $$"
   ]
  }
 ],
 "metadata": {
  "kernelspec": {
   "display_name": "base",
   "language": "python",
   "name": "python3"
  },
  "language_info": {
   "codemirror_mode": {
    "name": "ipython",
    "version": 3
   },
   "file_extension": ".py",
   "mimetype": "text/x-python",
   "name": "python",
   "nbconvert_exporter": "python",
   "pygments_lexer": "ipython3",
   "version": "3.8.18"
  }
 },
 "nbformat": 4,
 "nbformat_minor": 2
}
